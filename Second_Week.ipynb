{
 "cells": [
  {
   "cell_type": "code",
   "execution_count": 107,
   "metadata": {},
   "outputs": [
    {
     "data": {
      "text/plain": [
       "2       20752\n",
       "3       18702\n",
       "4        8159\n",
       "1        7526\n",
       "5        3172\n",
       "6        1187\n",
       "7         437\n",
       "8         245\n",
       "10        106\n",
       "9         102\n",
       "12         55\n",
       "11         31\n",
       "13         23\n",
       "14         22\n",
       "15         21\n",
       "16         13\n",
       "17          9\n",
       "18          7\n",
       "30          6\n",
       "20          5\n",
       "70          2\n",
       "28          2\n",
       "24          2\n",
       "27          2\n",
       "19          2\n",
       "25          2\n",
       "123         1\n",
       "37          1\n",
       "2020        1\n",
       "22          1\n",
       "50          1\n",
       "38          1\n",
       "48          1\n",
       "90          1\n",
       "45          1\n",
       "21          1\n",
       "23          1\n",
       "79          1\n",
       "31          1\n",
       "Name: Number of rooms, dtype: Int64"
      ]
     },
     "execution_count": 107,
     "metadata": {},
     "output_type": "execute_result"
    }
   ],
   "source": [
    "import pandas as pd\n",
    "import numpy as np\n",
    "\n",
    "df = pd.read_csv(\"./.gitignore/data_a (Florent).csv\")\n",
    "\n",
    "\n",
    "#Part 1 : cleaning the data\n",
    "\n",
    "#A. Drop the duplicates\n",
    "\n",
    "nb_of_duplicates = len(df)-len(df.drop_duplicates()) #How many duplicates do I have ?\n",
    "\n",
    "if nb_of_duplicates != 0 :\n",
    "    df.drop_duplicates(inplace=True)\n",
    "\n",
    "#B. Empty cells :\n",
    "\n",
    "df.isnull().sum() #How many empty cells are there for each column\n",
    "\n",
    "cleaned_df = df.dropna(subset=['Price'])#Delete the 3992 empty price\n",
    "cleaned_df = cleaned_df.dropna(subset=['Number of rooms'])#Delete the 1918 empty Number of rooms\n",
    "cleaned_df = cleaned_df.dropna(subset=['Living Area'])#Delete the 11677 empty Living Area (60605 left)\n",
    "\n",
    "cleaned_df[\"Garden\"].fillna(False, inplace = True) #Replace NaN value by False in the Garden Column\n",
    "cleaned_df[\"Furnished\"].fillna(False, inplace = True) #Replace NaN value by False in the Furnished Column\n",
    "cleaned_df[\"Fully equipped kitchen\"].fillna(False, inplace = True) #Replace NaN value by False in the Furnished Column\n",
    "\n",
    "del cleaned_df['Area of the terrace'] #Delete the column Area of the terrace\n",
    "del cleaned_df['Area of the garden'] #Delete the column Area of the garden\n",
    "del cleaned_df['State of the building'] #Delete the column State of the building\n",
    "del cleaned_df['Surface area of the plot of land'] #Delete the column Surface area of the plot of land\n",
    "del cleaned_df['Surface of the land'] #Delete the column Surface area of land\n",
    "del cleaned_df['Number of facades'] #Delete the column Number of facades\n",
    "\n",
    "#C. Data in wrong format\n",
    "\n",
    "cleaned_df_formatted = cleaned_df.convert_dtypes() #convert all the dtypes in the best types for them\n",
    "cleaned_df_formatted[\"Number of rooms\"].value_counts() #Display the number of buildings\n",
    "\n",
    "#cleaned_df_formatted.info()\n",
    "\n",
    "#df[\"Number of rooms\"].value_counts()\n",
    "#cleaned_df.isnull().sum()\n",
    "\n",
    "#cleaned_df.head(10)\n",
    "\n",
    "#only_columns_no_empty_df2 = cleaned_df.iloc[: ,0:5].copy()\n",
    "#only_columns_no_empty_df2 = cleaned_df.loc[:, df.columns.drop(['Courses', 'Discount'])]\n",
    "#df2=df.loc[:, df.columns.drop(['Courses', 'Discount'])]\n",
    "#only_columns_no_empty_df2.isnull().sum()\n"
   ]
  }
 ],
 "metadata": {
  "kernelspec": {
   "display_name": "Python 3",
   "language": "python",
   "name": "python3"
  },
  "language_info": {
   "codemirror_mode": {
    "name": "ipython",
    "version": 3
   },
   "file_extension": ".py",
   "mimetype": "text/x-python",
   "name": "python",
   "nbconvert_exporter": "python",
   "pygments_lexer": "ipython3",
   "version": "3.11.0"
  },
  "orig_nbformat": 4,
  "vscode": {
   "interpreter": {
    "hash": "aee8b7b246df8f9039afb4144a1f6fd8d2ca17a180786b69acc140d282b71a49"
   }
  }
 },
 "nbformat": 4,
 "nbformat_minor": 2
}

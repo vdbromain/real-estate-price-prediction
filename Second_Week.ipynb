{
 "cells": [
  {
   "cell_type": "code",
   "execution_count": 48,
   "metadata": {},
   "outputs": [],
   "source": [
    "import pandas as pd\n",
    "import numpy as np\n",
    "import matplotlib.pyplot as plt\n",
    "\n",
    "df = pd.read_csv(\"./.gitignore/data_a (Florent).csv\", skipinitialspace = True) #Open the csv file with no space before and after the values\n",
    "\n",
    "\n",
    "#Part 1 : cleaning the data\n",
    "\n",
    "#A. Drop the duplicates\n",
    "\n",
    "nb_of_duplicates = len(df)-len(df.drop_duplicates()) #How many duplicates do I have ?\n",
    "\n",
    "if nb_of_duplicates != 0 :\n",
    "    df.drop_duplicates(inplace=True)\n",
    "\n",
    "#B. Empty cells :\n",
    "\n",
    "df.isnull().sum() #How many empty cells are there for each column\n",
    "\n",
    "cleaned_df = df.dropna(subset=['Price'])#Delete the 3992 empty price\n",
    "cleaned_df = cleaned_df.dropna(subset=['Number of rooms'])#Delete the 1918 empty Number of rooms\n",
    "cleaned_df = cleaned_df.dropna(subset=['Living Area'])#Delete the 11677 empty Living Area (60605 left)\n",
    "\n",
    "cleaned_df[\"Garden\"].fillna(False, inplace = True) #Replace NaN value by False in the Garden Column\n",
    "cleaned_df[\"Furnished\"].fillna(False, inplace = True) #Replace NaN value by False in the Furnished Column\n",
    "cleaned_df[\"Fully equipped kitchen\"].fillna(False, inplace = True) #Replace NaN value by False in the Furnished Column\n",
    "\n",
    "del cleaned_df['Area of the terrace'] #Delete the column Area of the terrace\n",
    "del cleaned_df['Area of the garden'] #Delete the column Area of the garden\n",
    "del cleaned_df['State of the building'] #Delete the column State of the building\n",
    "del cleaned_df['Surface area of the plot of land'] #Delete the column Surface area of the plot of land\n",
    "del cleaned_df['Surface of the land'] #Delete the column Surface area of land\n",
    "del cleaned_df['Number of facades'] #Delete the column Number of facades\n",
    "\n",
    "nb_null_values = cleaned_df.isnull().sum()\n",
    "\n",
    "#if nb_null_values > 0 : #How many empty cells are there for each column => Not working if time come back to it !\n",
    "#    raise NameError(f\"There are {nb_null_values} null values in the DB, be careful !\")\n",
    "\n",
    "#C. No blank spaces \n",
    "# Already done in the opening of the csv file\n",
    "\n"
   ]
  },
  {
   "cell_type": "code",
   "execution_count": 49,
   "metadata": {},
   "outputs": [],
   "source": [
    "#D. Data in wrong format\n",
    "\n",
    "cleaned_df_formatted = cleaned_df.convert_dtypes() #convert all the dtypes in the best types for them\n",
    "#cleaned_df_formatted.info() #informations about Dtype and Non-null elements in the database\n",
    "\n",
    "#E. Wrong data\n",
    "\n",
    "#print(cleaned_df_formatted.head(2))\n",
    "#cleaned_df_formatted[\"Number of rooms\"].value_counts() #Display the number of buildings\n",
    "#cleaned_df_formatted[\"To sell\"]cleaned_df_formatted[\"Price\"].value_counts().head(20)\n",
    "\n",
    "\n",
    "index_sell_to_del = cleaned_df_formatted[(cleaned_df_formatted['To sell'] == False)].index # taking the index of the row who are False to delete them on the next line\n",
    "df_sell = cleaned_df_formatted.drop(index_sell_to_del) #Delete the rows collect the line above and store the new DF in df_sell\n",
    "del df_sell['To rent'] #Delete the column \"To rent\" because it is useless now\n",
    "\n",
    "index_rent_to_del = cleaned_df_formatted[(cleaned_df_formatted['To rent'] == False)].index # taking the index of the row who are False to delete them on the next line\n",
    "df_rent = cleaned_df_formatted.drop(index_rent_to_del) #Delete the rows collect the line above and store the new DF in df_rent\n",
    "del df_rent['To sell'] #Delete the column \"To sell\" because it is useless now\n",
    "\n",
    "\n",
    "#Delete the extreme prices and extreme living area from df_rent and df_sell\n",
    "\n",
    "df_rent.drop(df_rent[df_rent['Price'] >= 4000].index, inplace = True)\n",
    "df_rent.drop(df_rent[df_rent['Living Area'] > 400].index, inplace = True)\n"
   ]
  },
  {
   "cell_type": "code",
   "execution_count": 50,
   "metadata": {},
   "outputs": [],
   "source": [
    "#Creating some specific Dataframe to plot\n",
    "#Taking only the appartment to rent and calculating the price per squared m\n",
    "df_rent_appart = df_rent[(df_rent.loc[ : ,'type'] == \"Appartement\") | (df_rent.loc[ : ,'type'] == \"Rez-de-chaussée\")]"
   ]
  },
  {
   "cell_type": "code",
   "execution_count": 65,
   "metadata": {},
   "outputs": [
    {
     "name": "stderr",
     "output_type": "stream",
     "text": [
      "/var/folders/bf/nzxkpm4s193510wrty2mgpm40000gn/T/ipykernel_82748/3746230303.py:1: SettingWithCopyWarning: \n",
      "A value is trying to be set on a copy of a slice from a DataFrame.\n",
      "Try using .loc[row_indexer,col_indexer] = value instead\n",
      "\n",
      "See the caveats in the documentation: https://pandas.pydata.org/pandas-docs/stable/user_guide/indexing.html#returning-a-view-versus-a-copy\n",
      "  df_rent_appart.loc[: ,'Price by squared m'] = df_rent_appart.loc[ : ,'Price'] / df_rent_appart.loc[ : ,'Living Area']\n",
      "/var/folders/bf/nzxkpm4s193510wrty2mgpm40000gn/T/ipykernel_82748/3746230303.py:1: FutureWarning: In a future version, `df.iloc[:, i] = newvals` will attempt to set the values inplace instead of always setting a new array. To retain the old behavior, use either `df[df.columns[i]] = newvals` or, if columns are non-unique, `df.isetitem(i, newvals)`\n",
      "  df_rent_appart.loc[: ,'Price by squared m'] = df_rent_appart.loc[ : ,'Price'] / df_rent_appart.loc[ : ,'Living Area']\n"
     ]
    }
   ],
   "source": [
    "df_rent_appart.loc[: ,'Price by squared m'] = df_rent_appart.loc[ : ,'Price'] / df_rent_appart.loc[ : ,'Living Area']\n",
    "\n",
    "#df_rent_appart[df_rent_appart.Price by squared m[ : ]] = df_rent_appart.loc[ : ,'Price'] / df_rent_appart.loc[ : ,'Living Area']\n",
    "#dfmi.loc[:, ('one', 'second')]"
   ]
  },
  {
   "cell_type": "code",
   "execution_count": 68,
   "metadata": {},
   "outputs": [
    {
     "name": "stderr",
     "output_type": "stream",
     "text": [
      "/var/folders/bf/nzxkpm4s193510wrty2mgpm40000gn/T/ipykernel_82748/141079248.py:1: SettingWithCopyWarning: \n",
      "A value is trying to be set on a copy of a slice from a DataFrame.\n",
      "Try using .loc[row_indexer,col_indexer] = value instead\n",
      "\n",
      "See the caveats in the documentation: https://pandas.pydata.org/pandas-docs/stable/user_guide/indexing.html#returning-a-view-versus-a-copy\n",
      "  df_rent_appart.loc[ : ,'Price by bedroom'] = df_rent_appart.loc[ : ,'Price'] / df_rent_appart.loc[ : ,'Number of rooms']\n",
      "/var/folders/bf/nzxkpm4s193510wrty2mgpm40000gn/T/ipykernel_82748/141079248.py:1: FutureWarning: In a future version, `df.iloc[:, i] = newvals` will attempt to set the values inplace instead of always setting a new array. To retain the old behavior, use either `df[df.columns[i]] = newvals` or, if columns are non-unique, `df.isetitem(i, newvals)`\n",
      "  df_rent_appart.loc[ : ,'Price by bedroom'] = df_rent_appart.loc[ : ,'Price'] / df_rent_appart.loc[ : ,'Number of rooms']\n"
     ]
    }
   ],
   "source": [
    "df_rent_appart.loc[ : ,'Price by bedroom'] = df_rent_appart.loc[ : ,'Price'] / df_rent_appart.loc[ : ,'Number of rooms']\n",
    "\n"
   ]
  },
  {
   "cell_type": "code",
   "execution_count": null,
   "metadata": {},
   "outputs": [],
   "source": [
    "#Part 2 : Data Analysis\n",
    "\n",
    "#How many rows and columns ?\n",
    "\n",
    "def how_many_columns_rows_df(df):\n",
    "    vnames = [name for name in globals() if globals()[name] is df]#Getting the name of the df\n",
    "    print(f\"There are {df.shape[0]} rows in our database named {vnames[0]}\") #How many rows ?\n",
    "    print(f\"There are {df.shape[1]} columns in our database named {vnames[0]}\") #How many columns ?\n",
    "    return None\n",
    "\n",
    "how_many_columns_rows_df(cleaned_df_formatted)\n",
    "\n",
    "\n",
    "\n"
   ]
  },
  {
   "cell_type": "code",
   "execution_count": null,
   "metadata": {},
   "outputs": [],
   "source": [
    "#What is the correlation between the variables and the price? (Why might that be?)\n",
    "\n",
    "#Working on the df_rent (only renting prices)\n",
    "rent_price = df_rent['Price'] #Extracting the column Price in one variable\n",
    "rent_living_area = df_rent['Living Area'] #Extracting the column \"Living Area\" in one variable\n",
    "\n",
    "\n",
    "#Don't know if it's needed or not at the end (I saw that in a tutorial)\n",
    "rent_price_living_area_df = pd.DataFrame({'Price': rent_price, 'Living area': rent_living_area}) #Making a Dataframe with the variable Price as the first column and Living Area as the second\n",
    "\n",
    "rent_price_living_area_matrix = rent_price_living_area_df.corr()\n",
    "rent_price_living_area_matrix\n",
    "\n",
    "#Working on the df_sell (only selling prices)\n",
    "sell_price = df_sell['Price'] #Extracting the column Price in one variable\n",
    "sell_living_area = df_sell['Living Area'] #Extracting the column \"Living Area\" in one variable\n",
    "\n",
    "sell_price_living_area_df = pd.DataFrame({'Price': sell_price, 'Living area': sell_living_area}) #Making a Dataframe with the variable Price as the first column and Living Area as the second\n",
    "\n",
    "sell_price_living_area_matrix = sell_price_living_area_df.corr()\n",
    "sell_price_living_area_matrix\n",
    "\n",
    "#sell_price_living_area_matrix.at['Price', 'Living area']\n",
    "\n",
    "#print(df_rent['type'].value_counts())"
   ]
  },
  {
   "cell_type": "code",
   "execution_count": null,
   "metadata": {},
   "outputs": [],
   "source": [
    "#Plotting \n",
    "\n",
    "df_rent_appart.plot(x='zipcode', y='Price by squared m', kind='scatter', title=\"Appartment to rent\")\n",
    "plt.show()\n",
    "\n",
    "\n",
    "#df2 = df[df['column name']]#Taking appartement and Rez-de-chaussee from column type in df_rent\n",
    "df_rent_house.plot(x='zipcode', y='Price by squared m', kind='scatter', title=\"House to rent\")\n",
    "#df_rent_house.plot(x ='Living Area', y='Price', kind='bar')\n",
    "#df_rent_house.plot.pie(y='Price', figsize=(5, 5), autopct='%1.1f%%', startangle=90)\n",
    "plt.show()"
   ]
  }
 ],
 "metadata": {
  "kernelspec": {
   "display_name": "Python 3",
   "language": "python",
   "name": "python3"
  },
  "language_info": {
   "codemirror_mode": {
    "name": "ipython",
    "version": 3
   },
   "file_extension": ".py",
   "mimetype": "text/x-python",
   "name": "python",
   "nbconvert_exporter": "python",
   "pygments_lexer": "ipython3",
   "version": "3.11.0"
  },
  "orig_nbformat": 4,
  "vscode": {
   "interpreter": {
    "hash": "aee8b7b246df8f9039afb4144a1f6fd8d2ca17a180786b69acc140d282b71a49"
   }
  }
 },
 "nbformat": 4,
 "nbformat_minor": 2
}

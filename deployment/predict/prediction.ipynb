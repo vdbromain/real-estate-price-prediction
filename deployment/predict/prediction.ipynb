{
 "cells": [
  {
   "cell_type": "code",
   "execution_count": 10,
   "metadata": {},
   "outputs": [],
   "source": [
    "\n",
    "import pickle\n",
    "import numpy as np\n",
    "\n",
    "model = pickle.load(open(\"../model/model.pkl\", 'rb'))\n",
    "\n",
    "def predict(prepro_data : list) -> float :\n",
    "    features = [np.array(prepro_data)]\n",
    "    predicted_price = model.predict(features)\n",
    "\n",
    "\n",
    "    return predicted_price "
   ]
  }
 ],
 "metadata": {
  "kernelspec": {
   "display_name": "test",
   "language": "python",
   "name": "python3"
  },
  "language_info": {
   "codemirror_mode": {
    "name": "ipython",
    "version": 3
   },
   "file_extension": ".py",
   "mimetype": "text/x-python",
   "name": "python",
   "nbconvert_exporter": "python",
   "pygments_lexer": "ipython3",
   "version": "3.11.0 (v3.11.0:deaf509e8f, Oct 24 2022, 14:43:23) [Clang 13.0.0 (clang-1300.0.29.30)]"
  },
  "orig_nbformat": 4,
  "vscode": {
   "interpreter": {
    "hash": "f10219abab7a5fc116b53905e3100644fdc7765971675f355f0aeac863f54eea"
   }
  }
 },
 "nbformat": 4,
 "nbformat_minor": 2
}

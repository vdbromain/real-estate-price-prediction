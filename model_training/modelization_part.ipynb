{
 "cells": [
  {
   "cell_type": "code",
   "execution_count": 651,
   "metadata": {},
   "outputs": [],
   "source": [
    "import pandas as pd\n",
    "import numpy as np\n",
    "from sklearn.ensemble import GradientBoostingRegressor\n",
    "from sklearn.linear_model import Ridge\n",
    "from sklearn.linear_model import ElasticNet\n",
    "from sklearn.linear_model import Lasso\n",
    "\n",
    "filename = \"../.gitignore/data_a (Florent).csv\"\n",
    "\n",
    "df = pd.read_csv(filename, skipinitialspace=True) #Open the csv file with no space before and after the values"
   ]
  },
  {
   "cell_type": "code",
   "execution_count": 652,
   "metadata": {},
   "outputs": [],
   "source": [
    "#Defining all the functions I'll use\n",
    "\n",
    "def nb_rows_columns (df):\n",
    "    print(f\"There are {df.shape[0]} rows\")\n",
    "    print(f\"There are {df.shape[1]} columns\")\n",
    "\n",
    "def nb_null_values (df):\n",
    "    print(f\"Here is the null values for each column :\\n{df.isnull().sum()}\")\n",
    "\n",
    "def duplicates (df):\n",
    "    nb_duplicates = len(df) - len(df.drop_duplicates())\n",
    "    if nb_duplicates > 0:\n",
    "        print(f\"There are {nb_duplicates} duplicates in the dataframe\")\n",
    "    else :\n",
    "        print(\"There is no duplicates in the dataframe\")\n"
   ]
  },
  {
   "cell_type": "code",
   "execution_count": 653,
   "metadata": {},
   "outputs": [
    {
     "name": "stdout",
     "output_type": "stream",
     "text": [
      "There are 78192 rows\n",
      "There are 20 columns\n",
      "Here is the null values for each column :\n",
      "Unnamed: 0                              0\n",
      "To rent                              3992\n",
      "To sell                              3992\n",
      "Price                                3992\n",
      "Number of rooms                      4915\n",
      "Living Area                         15887\n",
      "Fully equipped kitchen              30252\n",
      "Furnished                           27135\n",
      "Open fire                               0\n",
      "Terrace                                 0\n",
      "Area of the terrace                 16786\n",
      "Garden                                  0\n",
      "Area of the garden                   8579\n",
      "Surface of the land                 43849\n",
      "Surface area of the plot of land    43849\n",
      "Number of facades                   24991\n",
      "Swimming pool                           0\n",
      "State of the building               25132\n",
      "zipcode                                 0\n",
      "type                                    1\n",
      "dtype: int64\n",
      "There is no duplicates in the dataframe\n"
     ]
    }
   ],
   "source": [
    "#Exploring a bit the dataframe before working on it\n",
    "nb_rows_columns(df)\n",
    "nb_null_values(df)\n",
    "duplicates(df)"
   ]
  },
  {
   "cell_type": "code",
   "execution_count": 654,
   "metadata": {},
   "outputs": [],
   "source": [
    "#Selecting the data I'll work on knowing my client's question is : \n",
    "#How much will I be able to rent this appartment in Belgium ?\n",
    "\n",
    "#Taking all the rent buildings directly from the source\n",
    "df_rent = df.query(\"`To rent` == True\" )\n",
    "\n",
    "#Taking only the appartments and Rez-de-chaussée\n",
    "df_rent_appart = df_rent.query(\"type == 'Appartement' | type == 'Rez-de-chaussée'\").copy()\n",
    "\n",
    "#Creating the column \"Province\"\n",
    "\n",
    "Province = []\n",
    "for zipcode in df_rent_appart['zipcode']:\n",
    "    if (zipcode >= 1000) & (zipcode <= 1299): Province.append('Brussels')\n",
    "    elif (zipcode >= 1300) & (zipcode <= 1499): Province.append('Brabant wallon')\n",
    "    elif (zipcode >= 2000) & (zipcode <= 2999): Province.append('Anvers')\n",
    "    elif (zipcode >= 3500) & (zipcode <= 3999): Province.append('Limbourg')\n",
    "    elif (zipcode >= 4000) & (zipcode <= 4999): Province.append('Liege')\n",
    "    elif (zipcode >= 5000) & (zipcode <= 5680): Province.append('Namur')\n",
    "    elif (zipcode >= 6600) & (zipcode <= 6999): Province.append('Luxembourg')\n",
    "    elif (zipcode >= 8000) & (zipcode <= 8999): Province.append('Flandre occiendentale')\n",
    "    elif (zipcode >= 9000) & (zipcode <= 9999): Province.append('Flandre orientale')\n",
    "    elif (zipcode >= 1500) & (zipcode <= 1999) or (zipcode >= 3000) & (zipcode <= 3499): Province.append('Brabant flamand')\n",
    "    elif (zipcode >= 6000) & (zipcode <= 6599) or (zipcode >= 7000) & (zipcode <= 7999): Province.append('Hainaut')\n",
    "\n",
    "df_rent_appart['Province'] = Province\n"
   ]
  },
  {
   "cell_type": "code",
   "execution_count": 655,
   "metadata": {},
   "outputs": [
    {
     "name": "stdout",
     "output_type": "stream",
     "text": [
      "Here is the null values for each column :\n",
      "Price                       0\n",
      "Number of rooms           124\n",
      "Living Area              2288\n",
      "Open fire                   0\n",
      "Terrace                     0\n",
      "Garden                      0\n",
      "Swimming pool               0\n",
      "State of the building    3132\n",
      "Province                    0\n",
      "dtype: int64\n"
     ]
    }
   ],
   "source": [
    "#Deleting the columns I find not accurate to answer my client's question\n",
    "\n",
    "#df_rent_appart = df_rent_appart.filter(['Price', 'Living Area', 'Province', 'State of the building'], axis=1) #\n",
    "columns = ['Unnamed: 0', 'To rent', 'To sell', 'Fully equipped kitchen', 'Furnished']\n",
    "columns += ['Area of the terrace', 'Area of the garden', 'Surface of the land']\n",
    "columns += ['Surface area of the plot of land', 'Number of facades', 'zipcode', 'type']\n",
    "df_rent_appart = df_rent_appart.drop(columns=columns)\n",
    "nb_null_values(df_rent_appart)"
   ]
  },
  {
   "cell_type": "code",
   "execution_count": 656,
   "metadata": {},
   "outputs": [],
   "source": [
    "#Deleting the outliers manually \n",
    "\n",
    "#print(f\"{df_rent_appart.nlargest(20, 'Price')}\")\n",
    "df_rent_appart = df_rent_appart[df_rent_appart['Price'] <= 8000] #Deleting the 120120 and 66000 price for renting !\n",
    "#print(f\"{df_rent_appart.nsmallest(20, 'Price')}\")\n",
    "\n",
    "#Deleting the colocations\n",
    "rows_to_delete = df_rent_appart[ (df_rent_appart['Living Area'] > 100) & (df_rent_appart['Price'] < 500) ]\n",
    "df_rent_appart.drop(rows_to_delete.index, inplace = True)\n",
    "#nb_rows_columns(df_rent_appart)\n",
    "#nb_rows_columns(rows_to_delete)\n",
    "\n",
    "#Deleting the price 45 for renting 89 square m...\n",
    "df_rent_appart = df_rent_appart[df_rent_appart['Price'] >= 275] \n",
    "\n",
    "#print(df_rent_appart.nlargest(20, 'Living Area'))\n",
    "#Deleting the Living Area > 485 square m because there are very little renting prices for those huge Living area\n",
    "df_rent_appart = df_rent_appart.query(\"`Living Area` < 485\") \n",
    "\n",
    "\n",
    "#Drop the Living Area that are nulls\n",
    "df_rent_appart = df_rent_appart.dropna(subset='Living Area')\n",
    "df_rent_appart = df_rent_appart.dropna(subset='State of the building')\n",
    "df_rent_appart = df_rent_appart.dropna(subset=\"Number of rooms\")\n",
    "#nb_null_values(df_rent_appart)\n",
    "#nb_rows_columns(df_rent_appart)"
   ]
  },
  {
   "cell_type": "code",
   "execution_count": 657,
   "metadata": {},
   "outputs": [
    {
     "data": {
      "text/plain": [
       "Index(['Price', 'Number of rooms', 'Living Area', 'Open fire', 'Terrace',\n",
       "       'Garden', 'Swimming pool', 'Province_Anvers',\n",
       "       'Province_Brabant flamand', 'Province_Brabant wallon',\n",
       "       'Province_Brussels', 'Province_Flandre occiendentale',\n",
       "       'Province_Flandre orientale', 'Province_Hainaut', 'Province_Liege',\n",
       "       'Province_Limbourg', 'Province_Luxembourg', 'Province_Namur',\n",
       "       'State of the building_\\nBon\\n',\n",
       "       'State of the building_\\nExcellentétat\\n',\n",
       "       'State of the building_\\nFraîchementrénové\\n',\n",
       "       'State of the building_\\nÀrafraîchir\\n',\n",
       "       'State of the building_\\nÀrestaurer\\n',\n",
       "       'State of the building_\\nÀrénover\\n'],\n",
       "      dtype='object')"
      ]
     },
     "execution_count": 657,
     "metadata": {},
     "output_type": "execute_result"
    }
   ],
   "source": [
    "#Putting the non_numerical values into numeric_values with get_dummies function\n",
    "\n",
    "df_rent_appart = pd.get_dummies(data = df_rent_appart, columns = ['Province','State of the building'])\n",
    "df_rent_appart.columns"
   ]
  },
  {
   "cell_type": "code",
   "execution_count": 658,
   "metadata": {},
   "outputs": [
    {
     "name": "stdout",
     "output_type": "stream",
     "text": [
      "The score of the model for training part : 0.6360367029106249\n",
      "The score of the model for testing part : 0.6652749848859687\n",
      "Renting Price Predicted = 1490.15 €\n"
     ]
    }
   ],
   "source": [
    "#Modelization part for renting appart in Belgium with LinearRegression\n",
    "\n",
    "#Defining the features and the target\n",
    "\n",
    "#features = Number of rooms, Living Area, Open fire, Terrace, Garden, Swimming pool, State of the building, Province     \n",
    "X = np.array(df_rent_appart.drop(columns = 'Price')) \n",
    "\n",
    "#target = Renting price of an appartment or rez-de-chaussée\n",
    "y = np.array(df_rent_appart['Price']) \n",
    "\n",
    "#print(f\"That's a sample line for the X_features : {X[0]}\")\n",
    "\n",
    "#Splitting the data between the training part and the testing part\n",
    "from sklearn.model_selection import train_test_split\n",
    "\n",
    "X_train, X_test, y_train, y_test =  train_test_split(X,y, test_size = 0.2, random_state = 42 )\n",
    "\n",
    "\n",
    "#Calling the algorithm we want to apply on our model and applying it\n",
    "from sklearn.linear_model import LinearRegression\n",
    "\n",
    "regressor = LinearRegression()\n",
    "regressor.fit(X_train, y_train)\n",
    "\n",
    "#Asking for the score of our model for its training part\n",
    "training_score = regressor.score(X_train, y_train)\n",
    "print(f\"The score of the model for training part : {training_score}\")\n",
    "\n",
    "\n",
    "#Making a prediction with our model on the testing data part\n",
    "\n",
    "regressor.predict(X_test)\n",
    "\n",
    "#Asking the score of our model for its testing part\n",
    "test_score = regressor.score(X_test, y_test)\n",
    "print(f\"The score of the model for testing part : {test_score}\")\n",
    "\n",
    "#Define one new instance\n",
    "#A random sample\n",
    "use_samples = [2.0, 90, False, False, False, False, 0, 0, 0, 1, 0, 0, 0, 0, 0, 0, 0, 0, 1, 0, 0, 0, 0]\n",
    "samples_to_predict = []\n",
    "\n",
    "# Convert into Numpy array\n",
    "Xnew = np.array(use_samples).reshape((1,-1))\n",
    "\n",
    "# make a prediction\n",
    "ynew = regressor.predict(Xnew)\n",
    "print(f\"Renting Price Predicted = {ynew[0].round(2)} €\")"
   ]
  },
  {
   "cell_type": "code",
   "execution_count": 659,
   "metadata": {},
   "outputs": [
    {
     "name": "stdout",
     "output_type": "stream",
     "text": [
      "The score of the model for training part : 0.7638712451519573\n",
      "The score of the model for testing part : 0.7351323571524035\n",
      "Renting Price Predicted = 1296.04 €\n"
     ]
    }
   ],
   "source": [
    "#Modelization part for renting appart in Belgium GradientBoostingRegressor\n",
    "\n",
    "#Defining the features and the target\n",
    "\n",
    "X = np.array(df_rent_appart.drop(columns = 'Price')) #features = \n",
    "y = np.array(df_rent_appart['Price']) #target = Renting price\n",
    "\n",
    "#print(f\"That's a sample line for the X_features : {X}\")\n",
    "\n",
    "#Splitting the data between the training part and the testing part\n",
    "from sklearn.model_selection import train_test_split\n",
    "\n",
    "X_train, X_test, y_train, y_test =  train_test_split(X,y, test_size = 0.2, random_state = 42 )\n",
    "\n",
    "\n",
    "#Calling the algorithm we want to apply on our model and applying it\n",
    "\n",
    "from sklearn.ensemble import GradientBoostingRegressor\n",
    "\n",
    "regressor = GradientBoostingRegressor()\n",
    "regressor.fit(X_train, y_train)\n",
    "\n",
    "#Asking for the score of our model for its training part\n",
    "training_score = regressor.score(X_train, y_train)\n",
    "print(f\"The score of the model for training part : {training_score}\")\n",
    "\n",
    "\n",
    "#Making a prediction with our model on the testing data part\n",
    "\n",
    "regressor.predict(X_test)\n",
    "\n",
    "#Asking the score of our model for its testing part\n",
    "test_score = regressor.score(X_test, y_test)\n",
    "print(f\"The score of the model for testing part : {test_score}\")\n",
    "\n",
    "#Define one new instance\n",
    "#A random sample\n",
    "use_samples = [2.0, 90, False, False, False, False, 0, 0, 0, 1, 0, 0, 0, 0, 0, 0, 0, 0, 1, 0, 0, 0, 0]\n",
    "samples_to_predict = []\n",
    "\n",
    "# Convert into Numpy array\n",
    "Xnew = np.array(use_samples).reshape((1,-1))\n",
    "\n",
    "# make a prediction\n",
    "ynew = regressor.predict(Xnew)\n",
    "print(f\"Renting Price Predicted = {ynew[0].round(2)} €\")"
   ]
  },
  {
   "cell_type": "code",
   "execution_count": null,
   "metadata": {},
   "outputs": [],
   "source": [
    "#Defining a function to model the datas\n",
    "\n",
    "#Modelization part using differents algorythms\n",
    " \n",
    "#Defining the features and the target\n",
    "X = np.array(df_rent_appart.drop(columns = 'Price')) #features = \n",
    "y = np.array(df_rent_appart['Price']) #target = Renting price\n",
    "\n",
    "#print(f\"That's a sample line for the X_features : {X}\")\n",
    "\n",
    "GB = GradientBoostingRegressor()\n",
    "LR = LinearRegression()\n",
    "Lasso = Lasso()\n",
    "R = Ridge()\n",
    "EL = ElasticNet()\n",
    "\n",
    "\n",
    "def modeling_data (X, y, regressor):\n",
    "    #Splitting the data between the training part and the testing part\n",
    "    from sklearn.model_selection import train_test_split\n",
    "    X_train, X_test, y_train, y_test =  train_test_split(X,y, test_size = 0.2, random_state = 42 )\n",
    "\n",
    "    #Calling the algorithm we want to apply on our model and applying it\n",
    "    regressor = regressor\n",
    "    regressor.fit(X_train, y_train)\n",
    "\n",
    "    #Asking for the score of our model for its training part\n",
    "    training_score = regressor.score(X_train, y_train)\n",
    "    print(f\"The score of the model for training part : {training_score}\")\n",
    "\n",
    "    #Making a prediction with our model on the testing data part\n",
    "    regressor.predict(X_test)\n",
    "\n",
    "    #Asking the score of our model for its testing part\n",
    "    test_score = regressor.score(X_test, y_test)\n",
    "    print(f\"The score of the model for testing part : {test_score}\")\n",
    "\n",
    "    #Function to give a new instance to the predict model\n",
    "    def prediction () :\n",
    "    #Define one new instance\n",
    "    #A random sample\n",
    "    use_samples = [2.0, 90, False, False, False, False, 0, 0, 0, 1, 0, 0, 0, 0, 0, 0, 0, 0, 1, 0, 0, 0, 0]\n",
    "    samples_to_predict = []\n",
    "\n",
    "    # Convert into Numpy array\n",
    "    Xnew = np.array(use_samples).reshape((1,-1))\n",
    "\n",
    "    # make a prediction\n",
    "    ynew = regressor.predict(Xnew)\n",
    "    print(f\"Renting Price Predicted = {ynew[0].round(2)} €\")"
   ]
  }
 ],
 "metadata": {
  "kernelspec": {
   "display_name": "Python 3",
   "language": "python",
   "name": "python3"
  },
  "language_info": {
   "codemirror_mode": {
    "name": "ipython",
    "version": 3
   },
   "file_extension": ".py",
   "mimetype": "text/x-python",
   "name": "python",
   "nbconvert_exporter": "python",
   "pygments_lexer": "ipython3",
   "version": "3.11.0"
  },
  "orig_nbformat": 4,
  "vscode": {
   "interpreter": {
    "hash": "aee8b7b246df8f9039afb4144a1f6fd8d2ca17a180786b69acc140d282b71a49"
   }
  }
 },
 "nbformat": 4,
 "nbformat_minor": 2
}

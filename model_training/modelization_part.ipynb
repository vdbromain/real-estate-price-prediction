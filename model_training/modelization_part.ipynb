{
 "cells": [
  {
   "cell_type": "code",
   "execution_count": 997,
   "metadata": {},
   "outputs": [],
   "source": [
    "import pandas as pd\n",
    "import numpy as np\n",
    "from sklearn.ensemble import GradientBoostingRegressor\n",
    "from sklearn.linear_model import Ridge\n",
    "from sklearn.linear_model import ElasticNet\n",
    "from sklearn.linear_model import Lasso\n",
    "from sklearn.linear_model import LinearRegression\n",
    "from sklearn.tree import DecisionTreeClassifier\n",
    "from sklearn.model_selection import cross_val_score\n"
   ]
  },
  {
   "cell_type": "code",
   "execution_count": 998,
   "metadata": {},
   "outputs": [],
   "source": [
    "filename = \"../.gitignore/data_a (Florent).csv\"\n",
    "#Open the csv file with no space before and after the values\n",
    "df = pd.read_csv(filename, skipinitialspace=True) "
   ]
  },
  {
   "cell_type": "code",
   "execution_count": 999,
   "metadata": {},
   "outputs": [],
   "source": [
    "#Defining all the functions I'll use\n",
    "\n",
    "#Functions for the preprocessing\n",
    "\n",
    "#Function who displays the number of rows and columns of a given dataframe\n",
    "def nb_rows_columns (df):\n",
    "    print(f\"There are {df.shape[0]} rows\")\n",
    "    print(f\"There are {df.shape[1]} columns\")\n",
    "\n",
    "#Function who displays the number of null values per column\n",
    "def nb_null_values (df):\n",
    "    print(f\"Here is the null values for each column :\\n{df.isnull().sum()}\")\n",
    "\n",
    "#Function to drop the duplicates if there are some\n",
    "def duplicates (df):\n",
    "    nb_duplicates = len(df) - len(df.drop_duplicates())\n",
    "    if nb_duplicates > 0:\n",
    "        df = df.drop_duplicates()\n",
    "        print(f\"There were {nb_duplicates} duplicates in the dataframe\")\n",
    "        return df\n",
    "    else :\n",
    "        print(\"There is no duplicates in the dataframe\")\n",
    "\n",
    "#Function for the modeling part\n",
    "\n",
    "#Defining a function to model the datas\n",
    "def modeling_data (X, y, sample, regressors):\n",
    "    for regressor in regressors :    \n",
    "        #Splitting the data between the training part and the testing part\n",
    "        from sklearn.model_selection import train_test_split\n",
    "        X_train, X_test, y_train, y_test =  train_test_split(X,y, test_size = 0.2, random_state = 42 )\n",
    "\n",
    "    \n",
    "        #Calling the algorithm we want to apply on our model and applying it\n",
    "        regressor = regressor\n",
    "        regressor.fit(X_train, y_train)\n",
    "\n",
    "        #Asking for the score of our model for its training part\n",
    "        training_score = regressor.score(X_train, y_train)\n",
    "        print(f\"The score of the model {regressor} for training part is : {(training_score*100).round(2)} %\")\n",
    "\n",
    "        #Making a prediction with our model on the testing data part\n",
    "        regressor.predict(X_test)\n",
    "\n",
    "        #Asking the score of our model for its testing part\n",
    "        test_score = regressor.score(X_test, y_test)\n",
    "        print(f\"The score of the model {regressor} for testing part is : {(test_score*100).round(2)} %\")\n",
    "\n",
    "        scores = cross_val_score(regressor, X, y, cv=5) # cv is the number of folds (k)\n",
    "        print(f\"The results for the cross-validation with {regressor} model is {scores}\")\n",
    "\n",
    "        # It is always a good practice to show the mean AND the standard deviation of the model accuracy\n",
    "        print(\"Accuracy: {:.2f}% (+/- {:.2f})\".format(scores.mean() * 100, scores.std() * 100))\n",
    "\n",
    "        if (type (sample) == list) :\n",
    "            #Convert into Numpy array\n",
    "            Xnew = np.array(sample).reshape((1,-1))\n",
    "\n",
    "            #Make a prediction\n",
    "            ynew = regressor.predict(Xnew)\n",
    "            print(f\"Renting Price Predicted with {regressor} = {ynew[0].round(2)} €\\n\")\n"
   ]
  },
  {
   "cell_type": "code",
   "execution_count": 1000,
   "metadata": {},
   "outputs": [
    {
     "name": "stdout",
     "output_type": "stream",
     "text": [
      "There are 78192 rows\n",
      "There are 20 columns\n",
      "Here is the null values for each column :\n",
      "Unnamed: 0                              0\n",
      "To rent                              3992\n",
      "To sell                              3992\n",
      "Price                                3992\n",
      "Number of rooms                      4915\n",
      "Living Area                         15887\n",
      "Fully equipped kitchen              30252\n",
      "Furnished                           27135\n",
      "Open fire                               0\n",
      "Terrace                                 0\n",
      "Area of the terrace                 16786\n",
      "Garden                                  0\n",
      "Area of the garden                   8579\n",
      "Surface of the land                 43849\n",
      "Surface area of the plot of land    43849\n",
      "Number of facades                   24991\n",
      "Swimming pool                           0\n",
      "State of the building               25132\n",
      "zipcode                                 0\n",
      "type                                    1\n",
      "dtype: int64\n",
      "There is no duplicates in the dataframe\n"
     ]
    }
   ],
   "source": [
    "#Exploring a bit the dataframe before working on it\n",
    "nb_rows_columns(df)\n",
    "nb_null_values(df)\n",
    "duplicates(df)"
   ]
  },
  {
   "cell_type": "code",
   "execution_count": 1001,
   "metadata": {},
   "outputs": [],
   "source": [
    "#Selecting the data I'll work on knowing my client's question is : \n",
    "#How much will I be able to rent this appartment in Belgium ?\n",
    "\n",
    "#Taking all the rent buildings directly from the source\n",
    "df_rent = df.query(\"`To rent` == True\" )\n",
    "\n",
    "#Taking only the appartments and Rez-de-chaussée\n",
    "df_rent_appart = df_rent.query(\"type == 'Appartement' | type == 'Rez-de-chaussée'\").copy()\n",
    "\n",
    "#Creating the column \"Province\"\n",
    "\n",
    "Province = []\n",
    "for zipcode in df_rent_appart['zipcode']:\n",
    "    if (zipcode >= 1000) & (zipcode <= 1299): Province.append('Brussels')\n",
    "    elif (zipcode >= 1300) & (zipcode <= 1499): Province.append('Brabant wallon')\n",
    "    elif (zipcode >= 2000) & (zipcode <= 2999): Province.append('Anvers')\n",
    "    elif (zipcode >= 3500) & (zipcode <= 3999): Province.append('Limbourg')\n",
    "    elif (zipcode >= 4000) & (zipcode <= 4999): Province.append('Liege')\n",
    "    elif (zipcode >= 5000) & (zipcode <= 5680): Province.append('Namur')\n",
    "    elif (zipcode >= 6600) & (zipcode <= 6999): Province.append('Luxembourg')\n",
    "    elif (zipcode >= 8000) & (zipcode <= 8999): Province.append('Flandre occiendentale')\n",
    "    elif (zipcode >= 9000) & (zipcode <= 9999): Province.append('Flandre orientale')\n",
    "    elif (zipcode >= 1500) & (zipcode <= 1999) or (zipcode >= 3000) & (zipcode <= 3499): Province.append('Brabant flamand')\n",
    "    elif (zipcode >= 6000) & (zipcode <= 6599) or (zipcode >= 7000) & (zipcode <= 7999): Province.append('Hainaut')\n",
    "\n",
    "df_rent_appart['Province'] = Province\n"
   ]
  },
  {
   "cell_type": "code",
   "execution_count": 1002,
   "metadata": {},
   "outputs": [
    {
     "name": "stdout",
     "output_type": "stream",
     "text": [
      "Here is the null values for each column :\n",
      "Price                       0\n",
      "Number of rooms           124\n",
      "Living Area              2288\n",
      "Open fire                   0\n",
      "Terrace                     0\n",
      "Garden                      0\n",
      "Swimming pool               0\n",
      "State of the building    3132\n",
      "Province                    0\n",
      "dtype: int64\n"
     ]
    }
   ],
   "source": [
    "#Deleting the columns I find not accurate to answer my client's question\n",
    "\n",
    "#df_rent_appart = df_rent_appart.filter(['Price', 'Living Area', 'Province', 'State of the building'], axis=1) #\n",
    "columns = ['Unnamed: 0', 'To rent', 'To sell', 'Fully equipped kitchen', 'Furnished']\n",
    "columns += ['Area of the terrace', 'Area of the garden', 'Surface of the land']\n",
    "columns += ['Surface area of the plot of land', 'Number of facades', 'zipcode', 'type']\n",
    "df_rent_appart = df_rent_appart.drop(columns=columns)\n",
    "nb_null_values(df_rent_appart)"
   ]
  },
  {
   "cell_type": "code",
   "execution_count": 1003,
   "metadata": {},
   "outputs": [
    {
     "name": "stdout",
     "output_type": "stream",
     "text": [
      "Here is the null values for each column :\n",
      "Price                    0\n",
      "Number of rooms          0\n",
      "Living Area              0\n",
      "Open fire                0\n",
      "Terrace                  0\n",
      "Garden                   0\n",
      "Swimming pool            0\n",
      "State of the building    0\n",
      "Province                 0\n",
      "dtype: int64\n",
      "There are 6617 rows\n",
      "There are 9 columns\n"
     ]
    }
   ],
   "source": [
    "#Deleting the outliers manually \n",
    "\n",
    "#print(f\"{df_rent_appart.nlargest(20, 'Price')}\")\n",
    "df_rent_appart = df_rent_appart[df_rent_appart['Price'] <= 8000] #Deleting the 120120 and 66000 price for renting !\n",
    "#print(f\"{df_rent_appart.nsmallest(20, 'Price')}\")\n",
    "\n",
    "#Deleting the colocations\n",
    "rows_to_delete = df_rent_appart[ (df_rent_appart['Living Area'] > 100) & (df_rent_appart['Price'] < 500) ]\n",
    "df_rent_appart.drop(rows_to_delete.index, inplace = True)\n",
    "#nb_rows_columns(df_rent_appart)\n",
    "#nb_rows_columns(rows_to_delete)\n",
    "\n",
    "#Deleting the price 45 for renting 89 square m...\n",
    "df_rent_appart = df_rent_appart[df_rent_appart['Price'] >= 275] \n",
    "\n",
    "#print(df_rent_appart.nlargest(20, 'Living Area'))\n",
    "#Deleting the Living Area > 485 square m because there are very little renting prices for those huge Living area\n",
    "df_rent_appart = df_rent_appart.query(\"`Living Area` < 485\") \n",
    "\n",
    "\n",
    "#Drop the Living Area that are nulls\n",
    "df_rent_appart = df_rent_appart.dropna(subset='Living Area')\n",
    "df_rent_appart = df_rent_appart.dropna(subset='State of the building')\n",
    "df_rent_appart = df_rent_appart.dropna(subset=\"Number of rooms\")\n",
    "nb_null_values(df_rent_appart)\n",
    "nb_rows_columns(df_rent_appart)"
   ]
  },
  {
   "cell_type": "code",
   "execution_count": 1004,
   "metadata": {},
   "outputs": [
    {
     "data": {
      "text/plain": [
       "Index(['Price', 'Number of rooms', 'Living Area', 'Open fire', 'Terrace',\n",
       "       'Garden', 'Swimming pool', 'Province_Anvers',\n",
       "       'Province_Brabant flamand', 'Province_Brabant wallon',\n",
       "       'Province_Brussels', 'Province_Flandre occiendentale',\n",
       "       'Province_Flandre orientale', 'Province_Hainaut', 'Province_Liege',\n",
       "       'Province_Limbourg', 'Province_Luxembourg', 'Province_Namur',\n",
       "       'State of the building_\\nBon\\n',\n",
       "       'State of the building_\\nExcellentétat\\n',\n",
       "       'State of the building_\\nFraîchementrénové\\n',\n",
       "       'State of the building_\\nÀrafraîchir\\n',\n",
       "       'State of the building_\\nÀrestaurer\\n',\n",
       "       'State of the building_\\nÀrénover\\n'],\n",
       "      dtype='object')"
      ]
     },
     "execution_count": 1004,
     "metadata": {},
     "output_type": "execute_result"
    }
   ],
   "source": [
    "#Putting the non_numerical values into numeric_values with get_dummies function\n",
    "\n",
    "df_rent_appart = pd.get_dummies(data = df_rent_appart, columns = ['Province','State of the building'])\n",
    "df_rent_appart.columns"
   ]
  },
  {
   "cell_type": "code",
   "execution_count": 1005,
   "metadata": {},
   "outputs": [
    {
     "name": "stdout",
     "output_type": "stream",
     "text": [
      "The score of the model GradientBoostingRegressor() for training part is : 76.39 %\n",
      "The score of the model GradientBoostingRegressor() for testing part is : 73.63 %\n",
      "The results for the cross-validation with GradientBoostingRegressor() model is [0.80223503 0.74002239 0.68339809 0.65381551 0.24629312]\n",
      "Accuracy: 62.52% (+/- 19.61)\n",
      "Renting Price Predicted with GradientBoostingRegressor() = 1296.04 €\n",
      "\n",
      "The score of the model LinearRegression() for training part is : 63.6 %\n",
      "The score of the model LinearRegression() for testing part is : 66.53 %\n",
      "The results for the cross-validation with LinearRegression() model is [0.71620634 0.65544746 0.62508062 0.58251928 0.05337345]\n",
      "Accuracy: 52.65% (+/- 24.05)\n",
      "Renting Price Predicted with LinearRegression() = 1490.15 €\n",
      "\n",
      "The score of the model Lasso() for training part is : 63.48 %\n",
      "The score of the model Lasso() for testing part is : 66.47 %\n",
      "The results for the cross-validation with Lasso() model is [0.71524217 0.65921321 0.62017886 0.58158571 0.06107617]\n",
      "Accuracy: 52.75% (+/- 23.73)\n",
      "Renting Price Predicted with Lasso() = 1483.96 €\n",
      "\n",
      "The score of the model Ridge() for training part is : 63.6 %\n",
      "The score of the model Ridge() for testing part is : 66.52 %\n",
      "The results for the cross-validation with Ridge() model is [0.71608692 0.65608014 0.62473412 0.58252997 0.05506402]\n",
      "Accuracy: 52.69% (+/- 23.99)\n",
      "Renting Price Predicted with Ridge() = 1489.73 €\n",
      "\n",
      "The score of the model ElasticNet() for training part is : 53.19 %\n",
      "The score of the model ElasticNet() for testing part is : 58.04 %\n",
      "The results for the cross-validation with ElasticNet() model is [ 0.61428996  0.5748923   0.50747363  0.50715231 -0.20889482]\n",
      "Accuracy: 39.90% (+/- 30.67)\n",
      "Renting Price Predicted with ElasticNet() = 1117.9 €\n",
      "\n",
      "The score of the model DecisionTreeClassifier() for training part is : 66.81 %\n",
      "The score of the model DecisionTreeClassifier() for testing part is : 6.65 %\n"
     ]
    },
    {
     "name": "stderr",
     "output_type": "stream",
     "text": [
      "/Library/Frameworks/Python.framework/Versions/3.11/lib/python3.11/site-packages/sklearn/model_selection/_split.py:700: UserWarning: The least populated class in y has only 1 members, which is less than n_splits=5.\n",
      "  warnings.warn(\n"
     ]
    },
    {
     "name": "stdout",
     "output_type": "stream",
     "text": [
      "The results for the cross-validation with DecisionTreeClassifier() model is [0.06193353 0.06797583 0.06575964 0.06198035 0.05517763]\n",
      "Accuracy: 6.26% (+/- 0.44)\n",
      "Renting Price Predicted with DecisionTreeClassifier() = 950.0 €\n",
      "\n"
     ]
    }
   ],
   "source": [
    "#Modelization part using differents algorythms\n",
    "\n",
    "#Defining the features and the target\n",
    "#Features = Number of rooms, Living Area, Open fire, Terrace, Garden, Swimming pool, State of the building, Province \n",
    "X = np.array(df_rent_appart.drop(columns = 'Price'))\n",
    "#Target = Renting price\n",
    "y = np.array(df_rent_appart['Price']) \n",
    "\n",
    "#print(f\"That's a sample line for the X_features : {X}\")\n",
    "\n",
    "GB = GradientBoostingRegressor()\n",
    "LR = LinearRegression()\n",
    "La = Lasso()\n",
    "R = Ridge()\n",
    "EL = ElasticNet()\n",
    "DTC = DecisionTreeClassifier()\n",
    "\n",
    "sample = [2.0, 90, False, False, False, False, 0, 0, 0, 1, 0, 0, 0, 0, 0, 0, 0, 0, 1, 0, 0, 0, 0]\n",
    "#Modeling and predicting with GradientBoostingRegressor, LinearRegression, Lasso, Ridge, ElasticNet\n",
    "modeling_data(X,y,sample,regressors=[GB, LR, La, R, EL, DTC])"
   ]
  },
  {
   "cell_type": "code",
   "execution_count": 1006,
   "metadata": {},
   "outputs": [
    {
     "name": "stdout",
     "output_type": "stream",
     "text": [
      " Results from Grid Search \n",
      "\n",
      " The best estimator across ALL searched params:\n",
      " GradientBoostingRegressor(learning_rate=0.04, max_depth=4, random_state=5,\n",
      "                          subsample=0.9)\n",
      "\n",
      " The best score across ALL searched params:\n",
      " 0.6999956466082995\n",
      "\n",
      " The best parameters across ALL searched params:\n",
      " {'learning_rate': 0.04, 'max_depth': 4, 'n_estimators': 100, 'subsample': 0.9}\n"
     ]
    }
   ],
   "source": [
    "#Just a test need to understand deeper\n",
    "\n",
    "from sklearn.model_selection import train_test_split\n",
    "from sklearn.model_selection import GridSearchCV \n",
    "\n",
    "# Creating train-test split and classifier\n",
    "X_train, X_test, y_train, y_test = train_test_split(X,y, random_state=41, test_size=0.2)\n",
    "regressor= GradientBoostingRegressor(random_state=5)\n",
    "\n",
    "# Setting all the parameters we want to test\n",
    "\n",
    "parameters = {'learning_rate': [0.01,0.02,0.03,0.04],\n",
    "                  'subsample'    : [0.9, 0.5, 0.2, 0.1],\n",
    "                  'n_estimators' : [100,500,1000, 1500],\n",
    "                  'max_depth'    : [4,6,8,10]\n",
    "                 }\n",
    "\n",
    "grid_GBR = GridSearchCV(estimator=regressor, param_grid = parameters, cv = 2, n_jobs=-1)\n",
    "grid_GBR.fit(X_train, y_train)\n",
    "\n",
    "\n",
    "print(\" Results from Grid Search \" )\n",
    "print(\"\\n The best estimator across ALL searched params:\\n\",grid_GBR.best_estimator_)\n",
    "print(\"\\n The best score across ALL searched params:\\n\",grid_GBR.best_score_)\n",
    "print(\"\\n The best parameters across ALL searched params:\\n\",grid_GBR.best_params_)"
   ]
  }
 ],
 "metadata": {
  "kernelspec": {
   "display_name": "Python 3",
   "language": "python",
   "name": "python3"
  },
  "language_info": {
   "codemirror_mode": {
    "name": "ipython",
    "version": 3
   },
   "file_extension": ".py",
   "mimetype": "text/x-python",
   "name": "python",
   "nbconvert_exporter": "python",
   "pygments_lexer": "ipython3",
   "version": "3.11.0"
  },
  "orig_nbformat": 4,
  "vscode": {
   "interpreter": {
    "hash": "aee8b7b246df8f9039afb4144a1f6fd8d2ca17a180786b69acc140d282b71a49"
   }
  }
 },
 "nbformat": 4,
 "nbformat_minor": 2
}

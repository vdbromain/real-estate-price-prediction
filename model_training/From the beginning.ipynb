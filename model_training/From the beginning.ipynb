{
 "cells": [
  {
   "cell_type": "code",
   "execution_count": 1326,
   "metadata": {},
   "outputs": [],
   "source": [
    "import pandas as pd\n",
    "import numpy as np"
   ]
  },
  {
   "cell_type": "code",
   "execution_count": 1327,
   "metadata": {},
   "outputs": [],
   "source": [
    "filename = \"../.gitignore/data_a (Florent).csv\"\n",
    "df = pd.read_csv(filename, skipinitialspace=True) #Open the csv file with no space before and after the values"
   ]
  },
  {
   "cell_type": "code",
   "execution_count": 1328,
   "metadata": {},
   "outputs": [
    {
     "name": "stdout",
     "output_type": "stream",
     "text": [
      "Index(['Unnamed: 0', 'To rent', 'To sell', 'Price', 'Number of rooms',\n",
      "       'Living Area', 'Fully equipped kitchen', 'Furnished', 'Open fire',\n",
      "       'Terrace', 'Area of the terrace', 'Garden', 'Area of the garden',\n",
      "       'Surface of the land', 'Surface area of the plot of land',\n",
      "       'Number of facades', 'Swimming pool', 'State of the building',\n",
      "       'zipcode', 'type'],\n",
      "      dtype='object')\n",
      "rows : 78192\n",
      "columns : 20\n"
     ]
    }
   ],
   "source": [
    "print(df.columns)\n",
    "print(f\"rows : {df.shape[0]}\\ncolumns : {df.shape[1]}\")"
   ]
  },
  {
   "cell_type": "code",
   "execution_count": 1329,
   "metadata": {},
   "outputs": [
    {
     "data": {
      "text/plain": [
       "array(['Studio', 'Appartement', 'Maison', ..., 'Appartement', 'Bungalow',\n",
       "       'Duplex'], dtype=object)"
      ]
     },
     "execution_count": 1329,
     "metadata": {},
     "output_type": "execute_result"
    }
   ],
   "source": [
    "# Drop the unnamed:0 column\n",
    "df = df.drop(columns='Unnamed: 0')\n",
    "df.head(2)\n",
    "df['type'].values"
   ]
  },
  {
   "cell_type": "code",
   "execution_count": 1343,
   "metadata": {},
   "outputs": [
    {
     "name": "stdout",
     "output_type": "stream",
     "text": [
      "There are 17134 rows left\n",
      "Index(['To rent', 'To sell', 'Price', 'Living Area', 'Open fire', 'Terrace',\n",
      "       'Garden', 'Swimming pool', 'State of the building', 'Province'],\n",
      "      dtype='object')\n",
      "Index(['To rent', 'To sell', 'Price', 'Living Area', 'Open fire', 'Terrace',\n",
      "       'Garden', 'Swimming pool', 'Province_Anvers',\n",
      "       'Province_Brabant flamand', 'Province_Brabant wallon',\n",
      "       'Province_Brussels', 'Province_Flandre occiendentale',\n",
      "       'Province_Flandre orientale', 'Province_Hainaut', 'Province_Liege',\n",
      "       'Province_Limbourg', 'Province_Luxembourg', 'Province_Namur',\n",
      "       'State of the building_\\nBon\\n',\n",
      "       'State of the building_\\nExcellentétat\\n',\n",
      "       'State of the building_\\nFraîchementrénové\\n',\n",
      "       'State of the building_\\nÀrafraîchir\\n',\n",
      "       'State of the building_\\nÀrestaurer\\n',\n",
      "       'State of the building_\\nÀrénover\\n'],\n",
      "      dtype='object')\n",
      "The score of the model for training part : 0.598008063856774\n",
      "The score of the model for testing part : 0.5930895933475828\n"
     ]
    }
   ],
   "source": [
    "#TEST\n",
    "#Taking all the rent buildings directly from the source\n",
    "df_rent = df.query(\"`To rent` == True\" )\n",
    "\n",
    "#Taking only the appartments and Rez-de-chaussée\n",
    "df_rent_appart = df.query(\"type == 'Appartement' | type == 'Rez-de-chaussée'\")\n",
    "\n",
    "del df_rent_appart['Number of rooms'] #Testing adding it and deleting the rows with the missing value df_rent_appart = df_rent_appart.dropna(subset='Numbers of rooms')\n",
    "df_rent_appart = df_rent_appart.dropna(subset = 'Living Area')\n",
    "df_rent_appart = df_rent_appart.dropna(subset = 'State of the building')\n",
    "print(f\"There are {df_rent_appart.shape[0]} rows left\")\n",
    "#How many missing values are there ?\n",
    "df_rent_appart.isnull().sum()\n",
    "\n",
    "\n",
    "\n",
    "#Creating the column \"Province\"\n",
    "\n",
    "df_rent_appart[(df_rent_appart[\"zipcode\"] >= 1000) & (df_rent_appart[\"zipcode\"] <= 1299)]\n",
    "\n",
    "Province = []\n",
    "for zipcode in df_rent_appart['zipcode']:\n",
    "    if (zipcode >= 1000) & (zipcode <= 1299): Province.append('Brussels')\n",
    "    elif (zipcode >= 1300) & (zipcode <= 1499): Province.append('Brabant wallon')\n",
    "    elif (zipcode >= 2000) & (zipcode <= 2999): Province.append('Anvers')\n",
    "    elif (zipcode >= 3500) & (zipcode <= 3999): Province.append('Limbourg')\n",
    "    elif (zipcode >= 4000) & (zipcode <= 4999): Province.append('Liege')\n",
    "    elif (zipcode >= 5000) & (zipcode <= 5680): Province.append('Namur')\n",
    "    elif (zipcode >= 6600) & (zipcode <= 6999): Province.append('Luxembourg')\n",
    "    elif (zipcode >= 8000) & (zipcode <= 8999): Province.append('Flandre occiendentale')\n",
    "    elif (zipcode >= 9000) & (zipcode <= 9999): Province.append('Flandre orientale')\n",
    "    elif (zipcode >= 1500) & (zipcode <= 1999) or (zipcode >= 3000) & (zipcode <= 3499): Province.append('Brabant flamand')\n",
    "    elif (zipcode >= 6000) & (zipcode <= 6599) or (zipcode >= 7000) & (zipcode <= 7999): Province.append('Hainaut')\n",
    "\n",
    "df_rent_appart['Province'] = Province\n",
    "del df_rent_appart['zipcode'] #Not needed anymore\n",
    "del df_rent_appart['type']\n",
    "\n",
    "\n",
    "print(df_rent_appart.columns)\n",
    "\n",
    "\n",
    "\n",
    "\n",
    "\n",
    "df_rent_appart = pd.get_dummies(data = df_rent_appart, columns = ['Province', 'State of the building'])\n",
    "\n",
    "\n",
    "\n",
    "\n",
    "\n",
    "\n",
    "\n",
    "\n",
    "\n",
    "#Modelization part for renting appart in Belgium with LinearRegression\n",
    "\n",
    "#Defining the features and the target\n",
    "\n",
    "print(df_rent_appart.columns)\n",
    "\n",
    "X = np.array(df_rent_appart.drop(columns = 'Price')) #features = Number of rooms, Living area and zipcode\n",
    "y = np.array(df_rent_appart['Price']) #target = Renting price\n",
    "\n",
    "#print(f\"That's a sample line for the X_features : {X}\")\n",
    "\n",
    "#Splitting the data between the training part and the testing part\n",
    "from sklearn.model_selection import train_test_split\n",
    "\n",
    "X_train, X_test, y_train, y_test =  train_test_split(X,y, test_size = 0.2, random_state = 42 )\n",
    "\n",
    "\n",
    "#Calling the algorithm we want to apply on our model and applying it\n",
    "from sklearn.linear_model import LinearRegression\n",
    "\n",
    "regressor = LinearRegression()\n",
    "regressor.fit(X_train, y_train)\n",
    "\n",
    "#Asking for the score of our model for its training part\n",
    "training_score = regressor.score(X_train, y_train)\n",
    "print(f\"The score of the model for training part : {training_score}\")\n",
    "\n",
    "\n",
    "#Making a prediction with our model on the testing data part\n",
    "\n",
    "regressor.predict(X_test)\n",
    "\n",
    "#Asking the score of our model for its testing part\n",
    "test_score = regressor.score(X_test, y_test)\n",
    "print(f\"The score of the model for testing part : {test_score}\")\n",
    "\n"
   ]
  },
  {
   "cell_type": "code",
   "execution_count": 1331,
   "metadata": {},
   "outputs": [
    {
     "data": {
      "text/plain": [
       "Price                    0\n",
       "Living Area              0\n",
       "Open fire                0\n",
       "Terrace                  0\n",
       "Garden                   0\n",
       "Swimming pool            0\n",
       "State of the building    0\n",
       "zipcode                  0\n",
       "dtype: int64"
      ]
     },
     "execution_count": 1331,
     "metadata": {},
     "output_type": "execute_result"
    }
   ],
   "source": [
    "#Deleting the 3992 rows on 78192 who have not the rent or sell info and who haven't any price\n",
    "df = df.dropna(subset=['Price'])\n",
    "\n",
    "#Deleting the column \"surface of the land\", \"Surface area of the plot of land\"\n",
    "df = df.drop(columns=['Surface of the land', 'Surface area of the plot of land'])\n",
    "\n",
    "#Deleting the number of facades column and Area of the garden column and Area of the terrace\n",
    "\n",
    "df = df.drop(columns=['Number of facades', 'Area of the garden', 'Area of the terrace'])\n",
    "\n",
    "#Deleting the fully equipped kitchen, furnished and number of rooms columns\n",
    "df = df.drop(columns=['Fully equipped kitchen', 'Furnished'])\n",
    "\n",
    "#TEST\n",
    "#Deleting the column State of the building (Have to also try with deleting the 21643 rows)\n",
    "#df = df.drop(columns='State of the building')\n",
    "\n",
    "df_rent = df[df['To rent'] == True]\n",
    "\n",
    "df_rent_appart = df_rent[(df_rent['type'] == 'Appartement') | (df_rent['type'] == 'Rez-de-chaussée')]\n",
    "\n",
    "#df_rent_appart = df_rent_appart.dropna(subset=\"Living Area\") #Deleting the empty cells of leaving area\n",
    "\n",
    "df_rent_appart.isnull().sum()\n",
    "\n",
    "df_rent_appart = df_rent_appart.drop(columns=['To rent', 'To sell', 'type', \"Number of rooms\"])\n",
    "\n",
    "df_rent_appart = df_rent_appart.dropna(subset='State of the building')\n",
    "\n",
    "df_rent_appart = df_rent_appart.dropna(subset=\"Living Area\")\n",
    "\n",
    "#df_rent_appart = df_rent_appart.dropna(subset=\"Number of rooms\")\n",
    "\n",
    "\n",
    "#Checking the numbers of empty cells\n",
    "df_rent_appart.isnull().sum()\n",
    "#df_rent_appart.shape\n"
   ]
  },
  {
   "cell_type": "code",
   "execution_count": 1332,
   "metadata": {},
   "outputs": [],
   "source": [
    "#Creating the column \"Province\"\n",
    "\n",
    "df_rent_appart[(df_rent_appart[\"zipcode\"] >= 1000) & (df_rent_appart[\"zipcode\"] <= 1299)]\n",
    "\n",
    "Province = []\n",
    "for zipcode in df_rent_appart['zipcode']:\n",
    "    if (zipcode >= 1000) & (zipcode <= 1299): Province.append('Brussels')\n",
    "    elif (zipcode >= 1300) & (zipcode <= 1499): Province.append('Brabant wallon')\n",
    "    elif (zipcode >= 2000) & (zipcode <= 2999): Province.append('Anvers')\n",
    "    elif (zipcode >= 3500) & (zipcode <= 3999): Province.append('Limbourg')\n",
    "    elif (zipcode >= 4000) & (zipcode <= 4999): Province.append('Liege')\n",
    "    elif (zipcode >= 5000) & (zipcode <= 5680): Province.append('Namur')\n",
    "    elif (zipcode >= 6600) & (zipcode <= 6999): Province.append('Luxembourg')\n",
    "    elif (zipcode >= 8000) & (zipcode <= 8999): Province.append('Flandre occiendentale')\n",
    "    elif (zipcode >= 9000) & (zipcode <= 9999): Province.append('Flandre orientale')\n",
    "    elif (zipcode >= 1500) & (zipcode <= 1999) or (zipcode >= 3000) & (zipcode <= 3499): Province.append('Brabant flamand')\n",
    "    elif (zipcode >= 6000) & (zipcode <= 6599) or (zipcode >= 7000) & (zipcode <= 7999): Province.append('Hainaut')\n",
    "\n",
    "df_rent_appart['Province'] = Province\n",
    "del df_rent_appart['zipcode'] #Not needed anymore"
   ]
  },
  {
   "cell_type": "code",
   "execution_count": 1333,
   "metadata": {},
   "outputs": [
    {
     "data": {
      "text/html": [
       "<div>\n",
       "<style scoped>\n",
       "    .dataframe tbody tr th:only-of-type {\n",
       "        vertical-align: middle;\n",
       "    }\n",
       "\n",
       "    .dataframe tbody tr th {\n",
       "        vertical-align: top;\n",
       "    }\n",
       "\n",
       "    .dataframe thead th {\n",
       "        text-align: right;\n",
       "    }\n",
       "</style>\n",
       "<table border=\"1\" class=\"dataframe\">\n",
       "  <thead>\n",
       "    <tr style=\"text-align: right;\">\n",
       "      <th></th>\n",
       "      <th>Price</th>\n",
       "      <th>Living Area</th>\n",
       "      <th>Open fire</th>\n",
       "      <th>Terrace</th>\n",
       "      <th>Garden</th>\n",
       "      <th>Swimming pool</th>\n",
       "      <th>State of the building</th>\n",
       "      <th>Province</th>\n",
       "    </tr>\n",
       "  </thead>\n",
       "  <tbody>\n",
       "    <tr>\n",
       "      <th>1</th>\n",
       "      <td>790.0</td>\n",
       "      <td>140.0</td>\n",
       "      <td>False</td>\n",
       "      <td>False</td>\n",
       "      <td>False</td>\n",
       "      <td>False</td>\n",
       "      <td>\\nBon\\n</td>\n",
       "      <td>Brabant flamand</td>\n",
       "    </tr>\n",
       "    <tr>\n",
       "      <th>3</th>\n",
       "      <td>520.0</td>\n",
       "      <td>50.0</td>\n",
       "      <td>False</td>\n",
       "      <td>False</td>\n",
       "      <td>False</td>\n",
       "      <td>False</td>\n",
       "      <td>\\nBon\\n</td>\n",
       "      <td>Luxembourg</td>\n",
       "    </tr>\n",
       "    <tr>\n",
       "      <th>6</th>\n",
       "      <td>660.0</td>\n",
       "      <td>95.0</td>\n",
       "      <td>False</td>\n",
       "      <td>False</td>\n",
       "      <td>False</td>\n",
       "      <td>False</td>\n",
       "      <td>\\nExcellentétat\\n</td>\n",
       "      <td>Liege</td>\n",
       "    </tr>\n",
       "    <tr>\n",
       "      <th>7</th>\n",
       "      <td>925.0</td>\n",
       "      <td>100.0</td>\n",
       "      <td>False</td>\n",
       "      <td>True</td>\n",
       "      <td>False</td>\n",
       "      <td>False</td>\n",
       "      <td>\\nFraîchementrénové\\n</td>\n",
       "      <td>Brabant flamand</td>\n",
       "    </tr>\n",
       "    <tr>\n",
       "      <th>14</th>\n",
       "      <td>1650.0</td>\n",
       "      <td>84.0</td>\n",
       "      <td>False</td>\n",
       "      <td>True</td>\n",
       "      <td>False</td>\n",
       "      <td>False</td>\n",
       "      <td>\\nExcellentétat\\n</td>\n",
       "      <td>Anvers</td>\n",
       "    </tr>\n",
       "    <tr>\n",
       "      <th>15</th>\n",
       "      <td>1650.0</td>\n",
       "      <td>84.0</td>\n",
       "      <td>False</td>\n",
       "      <td>True</td>\n",
       "      <td>False</td>\n",
       "      <td>False</td>\n",
       "      <td>\\nExcellentétat\\n</td>\n",
       "      <td>Anvers</td>\n",
       "    </tr>\n",
       "    <tr>\n",
       "      <th>17</th>\n",
       "      <td>860.0</td>\n",
       "      <td>95.0</td>\n",
       "      <td>False</td>\n",
       "      <td>True</td>\n",
       "      <td>False</td>\n",
       "      <td>False</td>\n",
       "      <td>\\nExcellentétat\\n</td>\n",
       "      <td>Hainaut</td>\n",
       "    </tr>\n",
       "    <tr>\n",
       "      <th>30</th>\n",
       "      <td>950.0</td>\n",
       "      <td>80.0</td>\n",
       "      <td>False</td>\n",
       "      <td>False</td>\n",
       "      <td>False</td>\n",
       "      <td>False</td>\n",
       "      <td>\\nExcellentétat\\n</td>\n",
       "      <td>Brussels</td>\n",
       "    </tr>\n",
       "    <tr>\n",
       "      <th>33</th>\n",
       "      <td>810.0</td>\n",
       "      <td>108.0</td>\n",
       "      <td>False</td>\n",
       "      <td>True</td>\n",
       "      <td>False</td>\n",
       "      <td>False</td>\n",
       "      <td>\\nExcellentétat\\n</td>\n",
       "      <td>Liege</td>\n",
       "    </tr>\n",
       "    <tr>\n",
       "      <th>34</th>\n",
       "      <td>1350.0</td>\n",
       "      <td>56.0</td>\n",
       "      <td>False</td>\n",
       "      <td>True</td>\n",
       "      <td>False</td>\n",
       "      <td>False</td>\n",
       "      <td>\\nExcellentétat\\n</td>\n",
       "      <td>Anvers</td>\n",
       "    </tr>\n",
       "  </tbody>\n",
       "</table>\n",
       "</div>"
      ],
      "text/plain": [
       "     Price  Living Area  Open fire  Terrace  Garden  Swimming pool  \\\n",
       "1    790.0        140.0      False    False   False          False   \n",
       "3    520.0         50.0      False    False   False          False   \n",
       "6    660.0         95.0      False    False   False          False   \n",
       "7    925.0        100.0      False     True   False          False   \n",
       "14  1650.0         84.0      False     True   False          False   \n",
       "15  1650.0         84.0      False     True   False          False   \n",
       "17   860.0         95.0      False     True   False          False   \n",
       "30   950.0         80.0      False    False   False          False   \n",
       "33   810.0        108.0      False     True   False          False   \n",
       "34  1350.0         56.0      False     True   False          False   \n",
       "\n",
       "    State of the building         Province  \n",
       "1                 \\nBon\\n  Brabant flamand  \n",
       "3                 \\nBon\\n       Luxembourg  \n",
       "6       \\nExcellentétat\\n            Liege  \n",
       "7   \\nFraîchementrénové\\n  Brabant flamand  \n",
       "14      \\nExcellentétat\\n           Anvers  \n",
       "15      \\nExcellentétat\\n           Anvers  \n",
       "17      \\nExcellentétat\\n          Hainaut  \n",
       "30      \\nExcellentétat\\n         Brussels  \n",
       "33      \\nExcellentétat\\n            Liege  \n",
       "34      \\nExcellentétat\\n           Anvers  "
      ]
     },
     "execution_count": 1333,
     "metadata": {},
     "output_type": "execute_result"
    }
   ],
   "source": [
    "df_rent_appart.head(10)"
   ]
  },
  {
   "cell_type": "code",
   "execution_count": 1334,
   "metadata": {},
   "outputs": [
    {
     "data": {
      "text/plain": [
       "Index(['Price', 'Living Area', 'Open fire', 'Terrace', 'Garden',\n",
       "       'Swimming pool', 'State of the building', 'Province'],\n",
       "      dtype='object')"
      ]
     },
     "execution_count": 1334,
     "metadata": {},
     "output_type": "execute_result"
    }
   ],
   "source": [
    "df_rent_appart.columns"
   ]
  },
  {
   "cell_type": "code",
   "execution_count": 1335,
   "metadata": {},
   "outputs": [
    {
     "data": {
      "text/plain": [
       "(6662, 8)"
      ]
     },
     "execution_count": 1335,
     "metadata": {},
     "output_type": "execute_result"
    }
   ],
   "source": [
    "df_rent_appart = df_rent_appart[df_rent_appart['Price'] <= 8000] #Deleting the 120120 and 66000 price for renting !\n",
    "df_rent_appart = df_rent_appart[df_rent_appart['Price'] >= 275] #Deleting the price 45 for renting 89 square m...\n",
    "\n",
    "#df_rent_appart.nlargest(20, 'Living Area')\n",
    "\n",
    "df_rent_appart = df_rent_appart.query(\"`Living Area` <= 550\") #Deleting the Living Area > 550 square m\n",
    "df_rent_appart.shape"
   ]
  },
  {
   "cell_type": "code",
   "execution_count": 1336,
   "metadata": {},
   "outputs": [],
   "source": [
    "df_rent_appart = pd.get_dummies(data = df_rent_appart, columns = ['Province', 'State of the building'])"
   ]
  },
  {
   "cell_type": "code",
   "execution_count": 1337,
   "metadata": {},
   "outputs": [
    {
     "name": "stdout",
     "output_type": "stream",
     "text": [
      "Index(['Price', 'Living Area', 'Open fire', 'Terrace', 'Garden',\n",
      "       'Swimming pool', 'Province_Anvers', 'Province_Brabant flamand',\n",
      "       'Province_Brabant wallon', 'Province_Brussels',\n",
      "       'Province_Flandre occiendentale', 'Province_Flandre orientale',\n",
      "       'Province_Hainaut', 'Province_Liege', 'Province_Limbourg',\n",
      "       'Province_Luxembourg', 'Province_Namur',\n",
      "       'State of the building_\\nBon\\n',\n",
      "       'State of the building_\\nExcellentétat\\n',\n",
      "       'State of the building_\\nFraîchementrénové\\n',\n",
      "       'State of the building_\\nÀrafraîchir\\n',\n",
      "       'State of the building_\\nÀrestaurer\\n',\n",
      "       'State of the building_\\nÀrénover\\n'],\n",
      "      dtype='object')\n",
      "The score of the model for training part : 0.629256029613949\n",
      "The score of the model for testing part : 0.6671118333718611\n"
     ]
    }
   ],
   "source": [
    "#Modelization part for renting appart in Belgium with LinearRegression\n",
    "\n",
    "#Defining the features and the target\n",
    "\n",
    "print(df_rent_appart.columns)\n",
    "\n",
    "X = np.array(df_rent_appart.drop(columns = 'Price')) #features = Number of rooms, Living area and zipcode\n",
    "y = np.array(df_rent_appart['Price']) #target = Renting price\n",
    "\n",
    "#print(f\"That's a sample line for the X_features : {X}\")\n",
    "\n",
    "#Splitting the data between the training part and the testing part\n",
    "from sklearn.model_selection import train_test_split\n",
    "\n",
    "X_train, X_test, y_train, y_test =  train_test_split(X,y, test_size = 0.2, random_state = 42 )\n",
    "\n",
    "\n",
    "#Calling the algorithm we want to apply on our model and applying it\n",
    "from sklearn.linear_model import LinearRegression\n",
    "\n",
    "regressor = LinearRegression()\n",
    "regressor.fit(X_train, y_train)\n",
    "\n",
    "#Asking for the score of our model for its training part\n",
    "training_score = regressor.score(X_train, y_train)\n",
    "print(f\"The score of the model for training part : {training_score}\")\n",
    "\n",
    "\n",
    "#Making a prediction with our model on the testing data part\n",
    "\n",
    "regressor.predict(X_test)\n",
    "\n",
    "#Asking the score of our model for its testing part\n",
    "test_score = regressor.score(X_test, y_test)\n",
    "print(f\"The score of the model for testing part : {test_score}\")"
   ]
  }
 ],
 "metadata": {
  "kernelspec": {
   "display_name": "Python 3",
   "language": "python",
   "name": "python3"
  },
  "language_info": {
   "codemirror_mode": {
    "name": "ipython",
    "version": 3
   },
   "file_extension": ".py",
   "mimetype": "text/x-python",
   "name": "python",
   "nbconvert_exporter": "python",
   "pygments_lexer": "ipython3",
   "version": "3.11.0"
  },
  "orig_nbformat": 4,
  "vscode": {
   "interpreter": {
    "hash": "aee8b7b246df8f9039afb4144a1f6fd8d2ca17a180786b69acc140d282b71a49"
   }
  }
 },
 "nbformat": 4,
 "nbformat_minor": 2
}
